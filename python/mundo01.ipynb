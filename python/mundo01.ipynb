{
 "cells": [
  {
   "cell_type": "markdown",
   "metadata": {},
   "source": [
    "# Mundo 01\n",
    "\n",
    "### Desafio 01\n",
    "\n",
    "Crie um script Python que leia o nome de uma pessoa e mostre uma mensagem de boas-vindas de acordo com o valor digitado."
   ]
  },
  {
   "cell_type": "code",
   "execution_count": 1,
   "metadata": {},
   "outputs": [
    {
     "name": "stdout",
     "output_type": "stream",
     "text": [
      "Olá Yutty! Prazer em te conhecer!\n"
     ]
    }
   ],
   "source": [
    "name = input('Qual é o seu nome?')\n",
    "\n",
    "print('Olá {}! Prazer em te conhecer!' .format(name))"
   ]
  },
  {
   "cell_type": "markdown",
   "metadata": {},
   "source": [
    "### Desafio 02\n",
    "\n",
    "Crie um script Python que leia o dia, o mês e o ano de nascimento de uma pessoa e mostre uma mensagem com a data formatada."
   ]
  },
  {
   "cell_type": "code",
   "execution_count": 2,
   "metadata": {},
   "outputs": [
    {
     "name": "stdout",
     "output_type": "stream",
     "text": [
      "A sua data de nascimento é: 18/8/1993\n"
     ]
    }
   ],
   "source": [
    "day = int(input('Digite o dia do seu nascimento'))\n",
    "month = int(input('Digite o mês do seu nascimento'))\n",
    "age = int(input('Digite o ano do seu nascimento'))\n",
    "\n",
    "print(f'A sua data de nascimento é: {day}/{month}/{age}')"
   ]
  },
  {
   "cell_type": "markdown",
   "metadata": {},
   "source": [
    "### Desafio 03\n",
    "\n",
    "Crie um script python que leia dois números e tente mostrar a soma entre eles."
   ]
  },
  {
   "cell_type": "code",
   "execution_count": 3,
   "metadata": {},
   "outputs": [
    {
     "name": "stdout",
     "output_type": "stream",
     "text": [
      "A soma do número 2 + 5 é igual a 7\n"
     ]
    }
   ],
   "source": [
    "n1 = int(input('Digite o primeiro número'))\n",
    "n2 = int(input('Digite o segundo número'))\n",
    "\n",
    "sum = n1 + n2\n",
    "\n",
    "print(f'A soma do número {n1} + {n2} é igual a {sum}')"
   ]
  },
  {
   "cell_type": "markdown",
   "metadata": {},
   "source": [
    "### Desafio 001\n",
    "\n",
    "Crie um programa que escreva \"Olá, mundo!\" na tela."
   ]
  },
  {
   "cell_type": "code",
   "execution_count": 4,
   "metadata": {},
   "outputs": [
    {
     "name": "stdout",
     "output_type": "stream",
     "text": [
      "Olá, mundo!\n"
     ]
    }
   ],
   "source": [
    "print('Olá, mundo!')"
   ]
  },
  {
   "cell_type": "markdown",
   "metadata": {},
   "source": [
    "### Desafio 002\n",
    "\n",
    "Faça um programa que leia o nome de uma pessoa e mostre uma mensagem de boas-vindas."
   ]
  },
  {
   "cell_type": "code",
   "execution_count": 5,
   "metadata": {},
   "outputs": [
    {
     "name": "stdout",
     "output_type": "stream",
     "text": [
      "Olá, Yutty! Seja bem-vindo(a)!\n"
     ]
    }
   ],
   "source": [
    "name = input('Digite o seu nome')\n",
    "\n",
    "print(f'Olá, {name}! Seja bem-vindo(a)!')"
   ]
  },
  {
   "cell_type": "markdown",
   "metadata": {},
   "source": [
    "### Desafio 003\n",
    "\n",
    "Crie um programa que leia dois números e mostre a soma entre eles."
   ]
  },
  {
   "cell_type": "code",
   "execution_count": 6,
   "metadata": {},
   "outputs": [
    {
     "name": "stdout",
     "output_type": "stream",
     "text": [
      "A soma do número 2 + 4 é igual a 6\n"
     ]
    }
   ],
   "source": [
    "n1 = int(input('Digite o primeiro número'))\n",
    "n2 = int(input('Digite o segundo número'))\n",
    "\n",
    "result = n1 + n2\n",
    "\n",
    "print(f'A soma do número {n1} + {n2} é igual a {result}')"
   ]
  },
  {
   "cell_type": "markdown",
   "metadata": {},
   "source": [
    "### Desafio 004\n",
    "\n",
    "Faça um programa que leia algo pelo teclado e mostre na tela o seu tipo primitivo e todas as informações possíveis sobre ele."
   ]
  },
  {
   "cell_type": "code",
   "execution_count": 21,
   "metadata": {},
   "outputs": [
    {
     "name": "stdout",
     "output_type": "stream",
     "text": [
      "O tipo primitivo desse valor é  <class 'str'>\n",
      "Só tem espaços?  False\n",
      "É um número?  False\n",
      "É alfabético? True\n",
      "É alfanumérico?  True\n",
      "Está em maiúsculas?  False\n",
      "Está em minúsculas?  False\n",
      "Está capitalizada?  True\n"
     ]
    }
   ],
   "source": [
    "value = input('Digite algo:')\n",
    "\n",
    "print('O tipo primitivo desse valor é ', type(value))\n",
    "print('Só tem espaços? ', value.isspace())\n",
    "print('É um número? ', value.isnumeric())\n",
    "print('É alfabético?', value.isalpha())\n",
    "print('É alfanumérico? ', value.isalnum())\n",
    "print('Está em maiúsculas? ', value.isupper())\n",
    "print('Está em minúsculas? ', value.islower())\n",
    "print('Está capitalizada? ', value.istitle())"
   ]
  },
  {
   "cell_type": "markdown",
   "metadata": {},
   "source": [
    "### Desafio 005\n",
    "\n",
    "Faça um programa que leia um número inteiro e mostre na tela o seu sucessor e seu antecessor."
   ]
  },
  {
   "cell_type": "code",
   "execution_count": 62,
   "metadata": {},
   "outputs": [
    {
     "name": "stdout",
     "output_type": "stream",
     "text": [
      "Número digitado: 4 \n",
      "Antecessor: 3 \n",
      "Sucessor: 5\n"
     ]
    }
   ],
   "source": [
    "number = int(input('Digite um número'))\n",
    "\n",
    "print('Número digitado: {} \\nAntecessor: {} \\nSucessor: {}' .format(number, number-1, number+1))"
   ]
  },
  {
   "cell_type": "markdown",
   "metadata": {},
   "source": [
    " ### Desafio 006\n",
    "\n",
    " Crie um algoritmo que leia um número e mostre o seu dobro, triplo e raiz quadrada."
   ]
  },
  {
   "cell_type": "code",
   "execution_count": 65,
   "metadata": {},
   "outputs": [
    {
     "name": "stdout",
     "output_type": "stream",
     "text": [
      "Número digitado: 81 \n",
      "Dobro: 162 \n",
      "Triplo: 243 \n",
      "Raiz quadrada: 9.00\n"
     ]
    }
   ],
   "source": [
    "number = int(input('Digite um número'))\n",
    "\n",
    "# raiz_quadrada = number ** (1/2)\n",
    "\n",
    "print('Número digitado: {} \\nDobro: {} \\nTriplo: {} \\nRaiz quadrada: {:.2f}' .format(number, (number * 2), (number * 3), pow(number, (1/2))))"
   ]
  },
  {
   "cell_type": "markdown",
   "metadata": {},
   "source": [
    "### Desafio 007\n",
    "\n",
    "Desenvolva um programa que leia as duas notas de um aluno, calcule e mostre a sua média."
   ]
  },
  {
   "cell_type": "code",
   "execution_count": 66,
   "metadata": {},
   "outputs": [
    {
     "name": "stdout",
     "output_type": "stream",
     "text": [
      "Nota 1: 8.5 \n",
      "Nota 2: 7.0 \n",
      "Média das notas: 7.75\n"
     ]
    }
   ],
   "source": [
    "nota1 = float(input('Digite a primeira nota'))\n",
    "nota2 = float(input('Digite a segunda nota'))\n",
    "media = (nota1 + nota2) / 2\n",
    "\n",
    "print('Nota 1: {} \\nNota 2: {} \\nMédia das notas: {}' .format(nota1, nota2, media))"
   ]
  },
  {
   "cell_type": "markdown",
   "metadata": {},
   "source": [
    "### Desafio 008\n",
    "\n",
    "Escreva um programa que leia um valor em metros e o exiba convertido em centímetros e milímetros."
   ]
  },
  {
   "cell_type": "code",
   "execution_count": 76,
   "metadata": {},
   "outputs": [
    {
     "name": "stdout",
     "output_type": "stream",
     "text": [
      "Medida em metros: 2.5m \n",
      "Medida em centímetros: 250cm \n",
      "Medida em milímetros: 2500mm\n"
     ]
    }
   ],
   "source": [
    "metros = float(input('Digite o valor em metros'))\n",
    "centimetros = metros * 100\n",
    "milimetros = centimetros * 10\n",
    "\n",
    "print('Medida em metros: {}m \\nMedida em centímetros: {:.0f}cm \\nMedida em milímetros: {:.0f}mm' .format(metros, centimetros, milimetros))"
   ]
  },
  {
   "cell_type": "markdown",
   "metadata": {},
   "source": [
    "### Desafio 009\n",
    "\n",
    "Faça um programa que leia um número inteiro qualquer e mostre na tela a sua tabuada."
   ]
  },
  {
   "cell_type": "code",
   "execution_count": 3,
   "metadata": {},
   "outputs": [
    {
     "name": "stdout",
     "output_type": "stream",
     "text": [
      "-----------\n",
      "3 x  1 =  3\n",
      "3 x  2 =  6\n",
      "3 x  3 =  9\n",
      "3 x  4 = 12\n",
      "3 x  5 = 15\n",
      "3 x  6 = 18\n",
      "3 x  7 = 21\n",
      "3 x  8 = 24\n",
      "3 x  9 = 27\n",
      "3 x 10 = 30\n",
      "-----------\n"
     ]
    }
   ],
   "source": [
    "numero = int(input('Digite um número'))\n",
    "\n",
    "print('-'*11)\n",
    "print('{} x {:>2} = {:>2}' .format(numero, 1, numero*1))\n",
    "print('{} x {:>2} = {:>2}' .format(numero, 2, numero*2))\n",
    "print('{} x {:>2} = {:>2}' .format(numero, 3, numero*3))\n",
    "print('{} x {:>2} = {:>2}' .format(numero, 4, numero*4))\n",
    "print('{} x {:>2} = {:>2}' .format(numero, 5, numero*5))\n",
    "print('{} x {:>2} = {:>2}' .format(numero, 6, numero*6))\n",
    "print('{} x {:>2} = {:>2}' .format(numero, 7, numero*7))\n",
    "print('{} x {:>2} = {:>2}' .format(numero, 8, numero*8))\n",
    "print('{} x {:>2} = {:>2}' .format(numero, 9, numero*9))\n",
    "print('{} x {:>2} = {:>2}' .format(numero, 10, numero*10))\n",
    "print('-'*11)"
   ]
  },
  {
   "cell_type": "markdown",
   "metadata": {},
   "source": [
    "### Desafio 010\n",
    "\n",
    "Crie um programa que leia quanto dinheiro uma pessoa tem na carteira e mostre quantos dólares ela pode comprar.\n",
    "\n",
    "Considere\n",
    "US$1.00=4.96"
   ]
  },
  {
   "cell_type": "code",
   "execution_count": 115,
   "metadata": {},
   "outputs": [
    {
     "name": "stdout",
     "output_type": "stream",
     "text": [
      "Com a quantia que você tem na carteira (R$125.32), dá para comprar US$621.59 dólares.\n"
     ]
    }
   ],
   "source": [
    "real = float(input('Quanto você tem na carteira?'))\n",
    "dolar = real * 4.96\n",
    "\n",
    "print('Com a quantia que você tem na carteira (R${:.2f}), dá para comprar US${:.2f} dólares.' .format(real, dolar))"
   ]
  },
  {
   "cell_type": "markdown",
   "metadata": {},
   "source": [
    "### Desafio 011\n",
    "\n",
    "Faça um programa que leia a largura e a altura de uma parede em metros, calcule a sua área e a quantidade de tinta necessária para pintá-la, sabendo que cada litro de tinta, pinta uma área de 2m²."
   ]
  },
  {
   "cell_type": "code",
   "execution_count": 119,
   "metadata": {},
   "outputs": [
    {
     "name": "stdout",
     "output_type": "stream",
     "text": [
      "Altura: 5.0m \n",
      "Largura: 5.0m \n",
      "Área: 25.0m \n",
      "Será necessário 12.5 litros de tinta para pintar a parede.\n"
     ]
    }
   ],
   "source": [
    "largura = float(input('Digite a largura da parede em metros'))\n",
    "altura = float(input('Digite a altura da parede em metros'))\n",
    "area = largura * altura\n",
    "litro_tinta = area / 2\n",
    "\n",
    "print('Altura: {}m \\nLargura: {}m \\nÁrea: {}m \\nSerá necessário {} litros de tinta para pintar a parede.' .format(altura, largura, area, litro_tinta))"
   ]
  },
  {
   "cell_type": "markdown",
   "metadata": {},
   "source": [
    "### Desafio 012\n",
    "\n",
    "Faça um algoritmo que leia o preço de um produto e mostre seu novo preço, com 5% de desconto."
   ]
  },
  {
   "cell_type": "code",
   "execution_count": 73,
   "metadata": {},
   "outputs": [
    {
     "name": "stdout",
     "output_type": "stream",
     "text": [
      "Preço do produto: R$100.00 \n",
      "Valor do desconto: 5% \n",
      "Preço do produto com o desconto aplicado: R$95.00\n"
     ]
    }
   ],
   "source": [
    "preco_produto = float(input('Digite o preço do produto'))\n",
    "desconto = 5\n",
    "preco_com_desconto = preco_produto-(preco_produto*(desconto/100))\n",
    "\n",
    "print('Preço do produto: R${:.2f} \\nValor do desconto: {}% \\nPreço do produto com o desconto aplicado: R${:.2f}' .format(preco_produto, desconto, preco_com_desconto))"
   ]
  },
  {
   "cell_type": "markdown",
   "metadata": {},
   "source": [
    "### Desafio 013\n",
    "\n",
    "Faça um algoritmo que leia o salário de um funcionário e mostre seu novo salário, com 15% de aumento."
   ]
  },
  {
   "cell_type": "code",
   "execution_count": 74,
   "metadata": {},
   "outputs": [
    {
     "name": "stdout",
     "output_type": "stream",
     "text": [
      "Valor atual do salário: R$1500.00 \n",
      "Aumento: 15% \n",
      "Valor do salário com o aumento: R$1725.00\n"
     ]
    }
   ],
   "source": [
    "salario = float(input('Digite o valor do salário do funcionário'))\n",
    "aumento = 15\n",
    "salario_com_aumento = salario+(salario*(aumento/100))\n",
    "\n",
    "print('Valor atual do salário: R${:.2f} \\nAumento: {}% \\nValor do salário com o aumento: R${:.2f}' .format(salario, aumento, salario_com_aumento))"
   ]
  },
  {
   "cell_type": "markdown",
   "metadata": {},
   "source": [
    "### Desafio 014\n",
    "\n",
    "Escreva um programa que converta uma temperatura digitada em °C e converta para °F."
   ]
  },
  {
   "cell_type": "code",
   "execution_count": 125,
   "metadata": {},
   "outputs": [
    {
     "name": "stdout",
     "output_type": "stream",
     "text": [
      "Grau Celsius: 25°C \n",
      "Grau Fahrenheit: 77°F\n"
     ]
    }
   ],
   "source": [
    "celsius = int(input('Digite a temperatura em °C'))\n",
    "fahrenheit = celsius * 9 / 5 + 32\n",
    "\n",
    "print('Grau Celsius: {}°C \\nGrau Fahrenheit: {:.0f}°F' .format(celsius, fahrenheit))"
   ]
  },
  {
   "cell_type": "markdown",
   "metadata": {},
   "source": [
    "### Desafio 015\n",
    "\n",
    "Escreva um programa que pergunte a quantidade de km percorridos por um carro alugado e a quantidade de dias pelos quais ele foi alugado. Calcule o preço a pagar, sabendo que o carro custa R$60 por dia e R$0.15 por km rodado."
   ]
  },
  {
   "cell_type": "code",
   "execution_count": 138,
   "metadata": {},
   "outputs": [
    {
     "name": "stdout",
     "output_type": "stream",
     "text": [
      "Valor do alugel do carro: R$60.00 por dia. \n",
      "Valor por km rodado: R$0.15 \n",
      "--------------------------------------------------\n",
      "Quantidade de dias: 3 \n",
      "Quilômetros rodados: 350 \n",
      "Valor total a pagar: R$232.50\n"
     ]
    }
   ],
   "source": [
    "preco_aluguel = 60\n",
    "preco_km = 0.15\n",
    "\n",
    "print('Valor do alugel do carro: R${:.2f} por dia. \\nValor por km rodado: R${:.2f} \\n{}' .format(preco_aluguel, preco_km, '-'*50))\n",
    "\n",
    "qnt_dias = int(input('Digite a quantidade de dias que o carro foi alugado'))\n",
    "qnt_km = int(input(\"Digite a quantidade de quilômetros percorridos\"))\n",
    "pagar = qnt_dias * preco_aluguel + qnt_km * preco_km\n",
    "\n",
    "custo = print('Quantidade de dias: {} \\nQuilômetros rodados: {} \\nValor total a pagar: R${:.2f}' .format(qnt_dias, qnt_km, pagar))"
   ]
  },
  {
   "cell_type": "markdown",
   "metadata": {},
   "source": [
    "### Desafio 016\n",
    "\n",
    "Crie um programa que leia um número real qualquer pelo teclado e mostre na tela a sua porção inteira.\n",
    "\n",
    "Ex:\n",
    "\n",
    "Digite um número: 6.127\n",
    "\n",
    "O número 6.127 tem a parte inteira 6."
   ]
  },
  {
   "cell_type": "code",
   "execution_count": 46,
   "metadata": {},
   "outputs": [
    {
     "name": "stdout",
     "output_type": "stream",
     "text": [
      "O número 6.127 tem a parte inteira 6.\n"
     ]
    }
   ],
   "source": [
    "# from math import trunc\n",
    "\n",
    "n = float(input('Digite um número'))\n",
    "# n_int = trunc(n)\n",
    "\n",
    "print('O número {} tem a parte inteira {}.' .format(n, int(n)))"
   ]
  },
  {
   "cell_type": "markdown",
   "metadata": {},
   "source": [
    "### Desafio 017\n",
    "\n",
    "Faça um programa que leia o comprimento do cateto oposto e do cateto adjacente de um triângulo retângulo, calcule e mostre o comprimento da hipotenusa."
   ]
  },
  {
   "cell_type": "code",
   "execution_count": 49,
   "metadata": {},
   "outputs": [
    {
     "name": "stdout",
     "output_type": "stream",
     "text": [
      "Cateto oposto = 3.0 \n",
      "Cateto adjacente = 4.0 \n",
      "Hipotenusa = 5.0\n"
     ]
    }
   ],
   "source": [
    "import math\n",
    "\n",
    "cateto_oposto = float(input('Digite o comprimento do cateto oposto'))\n",
    "cateto_adjacente = float(input('Digite o comprimento do cateto adjacente'))\n",
    "hipotenusa = math.hypot(cateto_oposto, cateto_adjacente)\n",
    "\n",
    "print('Cateto oposto = {} \\nCateto adjacente = {} \\nHipotenusa = {}' .format(cateto_oposto, cateto_adjacente, hipotenusa))"
   ]
  },
  {
   "cell_type": "markdown",
   "metadata": {},
   "source": [
    "### Desafio 018\n",
    "\n",
    "Faça um programa que leia um ângulo qualquer e mostre na tela o valor do seno, cosseno e tangente desse ângulo."
   ]
  },
  {
   "cell_type": "code",
   "execution_count": 56,
   "metadata": {},
   "outputs": [
    {
     "name": "stdout",
     "output_type": "stream",
     "text": [
      "O ângulo de 30° tem o seno de 0.50, cosseno de 0.87 e tangente de 0.58\n"
     ]
    }
   ],
   "source": [
    "import math\n",
    "\n",
    "angulo = float(input('Digite o ângulo que você desejar'))\n",
    "seno = math.sin(math.radians(angulo))\n",
    "cosseno = math.cos(math.radians(angulo))\n",
    "tangente = math.tan(math.radians(angulo))\n",
    "print('O ângulo de {:.0f}° tem o seno de {:.2f}, cosseno de {:.2f} e tangente de {:.2f}' .format(angulo, seno, cosseno, tangente))"
   ]
  },
  {
   "cell_type": "markdown",
   "metadata": {},
   "source": [
    "### Desafio 019\n",
    "\n",
    "Um professor quer sortear um dos seus quatro alunos para apagar o quadro. Faça um programa que ajude ele, lendo o nome deles e escrevendo o nome do escolhido."
   ]
  },
  {
   "cell_type": "code",
   "execution_count": 1,
   "metadata": {},
   "outputs": [
    {
     "name": "stdout",
     "output_type": "stream",
     "text": [
      "O aluno sorteado foi: Carol. \n",
      "\n",
      "Nomes: ['Akira', 'Erik', 'Daniel', 'Yutty', 'Fernando', 'Gabriel', 'Jamily', 'Milleny', 'Carol']\n"
     ]
    }
   ],
   "source": [
    "from random import choice\n",
    "\n",
    "lista = []\n",
    "\n",
    "while True:\n",
    "    aluno = input('Digite o nome do aluno que vai participar do sorteio. Para sortear digite Enter com a caixa vazia.')\n",
    "    if aluno == '':\n",
    "        escolhido = choice(lista)\n",
    "        print('O aluno sorteado foi: {}. \\n\\nNomes: {}' .format(escolhido, lista))\n",
    "        break\n",
    "    else:\n",
    "        lista.append(aluno)\n",
    "        continue\n",
    "    \n"
   ]
  },
  {
   "cell_type": "markdown",
   "metadata": {},
   "source": [
    "### Desafio 020\n",
    "\n",
    "O mesmo professor do desafio anterior quer sortear a ordem de apresentação de trabalhos dos alunos. Faça um programa que leia o nome dos quatro alunos e mostre a ordem sorteada."
   ]
  },
  {
   "cell_type": "code",
   "execution_count": 3,
   "metadata": {},
   "outputs": [
    {
     "name": "stdout",
     "output_type": "stream",
     "text": [
      "1 Akira\n",
      "2 Daniel\n",
      "3 Yutty\n",
      "4 Reiji\n",
      "5 Maria\n",
      "6 Erik\n"
     ]
    }
   ],
   "source": [
    "import random\n",
    "\n",
    "lista = []\n",
    "\n",
    "while True:\n",
    "    aluno = input(\n",
    "        'Digite o nome do aluno. Para finalizar aperte a tecla Enter com a caixa vazia.')\n",
    "    if aluno == '':\n",
    "        # Usei o shuffle para misturar a ordem da lista\n",
    "        escolhido = random.shuffle(lista)\n",
    "        for aluno in lista:\n",
    "            print(lista.index(aluno)+1, aluno)\n",
    "        break\n",
    "    else:\n",
    "        lista.append(aluno)\n",
    "        continue"
   ]
  },
  {
   "cell_type": "markdown",
   "metadata": {},
   "source": [
    "### Desafio 021\n",
    "\n",
    "Faça um programa em Python que abra e reproduza o áudio de um arquivo MP3."
   ]
  },
  {
   "cell_type": "code",
   "execution_count": 5,
   "metadata": {},
   "outputs": [],
   "source": [
    "import pygame\n",
    "pygame.mixer.init()\n",
    "pygame.mixer.music.load('KVSH-sicko-drop.mp3')\n",
    "pygame.mixer.music.play()\n",
    "#pygame.mixer.event.wait()\n",
    "\n",
    "while True:\n",
    "  player = input('Digite P para pausar. \\nDigite C para continuar. \\nDigite S para parar.').upper()\n",
    "  if player == 'P':\n",
    "    pygame.mixer.music.pause()\n",
    "  elif player == 'C':\n",
    "    pygame.mixer.music.unpause()\n",
    "  elif player == 'S':\n",
    "    pygame.mixer.music.stop()\n",
    "    break\n",
    "  else:\n",
    "    input('Opção inválida!')\n",
    "    continue"
   ]
  },
  {
   "cell_type": "markdown",
   "metadata": {},
   "source": [
    "### Desafio 022\n",
    "\n",
    "Crie um programa que leia o nome completo de uma pessoa e mostre:\n",
    "- O nome com todas as letras maiúsculas\n",
    "- Quantas letras ao todo (sem considerar espaços)\n",
    "- Quantas letras tem o primeiro nome"
   ]
  },
  {
   "cell_type": "code",
   "execution_count": 28,
   "metadata": {},
   "outputs": [
    {
     "name": "stdout",
     "output_type": "stream",
     "text": [
      "Nome com todas as letras maiúsculas: YUTTY AKIKO NEVES TAKEYAMA\n",
      "Quantidade de letras: 23\n",
      "Primeiro nome: Yutty\n",
      "Quantidade de letras no primeiro nome: 5\n"
     ]
    }
   ],
   "source": [
    "nome_completo = input('Digite o seu nome completo')\n",
    "lista_nome_completo = nome_completo.split()\n",
    "\n",
    "if nome_completo.isnumeric() == True or nome_completo == '' or nome_completo in '!@#$%¨&*()_+-=[{]}:;.,/?\\/\"|':\n",
    "  print('Nome inválido!')\n",
    "else:\n",
    "  print('Nome com todas as letras maiúsculas: {}' .format(nome_completo.upper()))\n",
    "  print('Quantidade de letras: {}' .format(len(nome_completo) - nome_completo.count(' ')))\n",
    "  print('Primeiro nome: {}' .format(lista_nome_completo[0].capitalize())) # Transforma apenas a primeira letra da linha em maiúsculo e transforma o restante em minúsculo\n",
    "  print('Quantidade de letras no primeiro nome: {}' .format(len(lista_nome_completo[0])))"
   ]
  },
  {
   "cell_type": "markdown",
   "metadata": {},
   "source": [
    "### Desafio 023\n",
    "\n",
    "Faça um programa que leia um número de 0 a 9999 e mostre na tela cada um dos dígitos separados.\n",
    "\n",
    "Ex: Digite um número: 1834\n",
    "\n",
    "- unidade: 4\n",
    "- dezena: 3\n",
    "- centena: 8\n",
    "- milhar: 1"
   ]
  },
  {
   "cell_type": "code",
   "execution_count": 21,
   "metadata": {},
   "outputs": [
    {
     "name": "stdout",
     "output_type": "stream",
     "text": [
      "Número: 3567 \n",
      "\n",
      "unidade: 7 \n",
      "dezena: 6 \n",
      "centena: 5 \n",
      "milhar: 3\n"
     ]
    }
   ],
   "source": [
    "while True:\n",
    "  numero = int(input('Digite um número entre 0 e 9999'))\n",
    "  numero_string = str(numero)\n",
    "  if numero in range(0, 9999):\n",
    "    print('Número: {} \\n\\nunidade: {} \\ndezena: {} \\ncentena: {} \\nmilhar: {}' .format(numero, numero_string[3], numero_string[2], numero_string[1], numero_string[0]))\n",
    "    break\n",
    "  else:\n",
    "    input('Número inválido!')"
   ]
  },
  {
   "cell_type": "markdown",
   "metadata": {},
   "source": [
    "### Desafio 024\n",
    "\n",
    "Crie um programa que leia o nome de uma cidade e diga se ela começa ou não com o nome \"Santo\"."
   ]
  },
  {
   "cell_type": "code",
   "execution_count": 18,
   "metadata": {},
   "outputs": [
    {
     "name": "stdout",
     "output_type": "stream",
     "text": [
      "Nome da cidade: Antonio Santo \n",
      "Não tem \"Santo\" no nome da cidade\n"
     ]
    }
   ],
   "source": [
    "cidade = input('Digite o nome da cidade').title().strip()\n",
    "\n",
    "if 'Santo' in cidade[:5]:\n",
    "  print('Nome da cidade: {} \\nTem \"Santo\" no nome da cidade' .format(cidade))\n",
    "else:\n",
    "  print('Nome da cidade: {} \\nNão tem \"Santo\" no início do nome da cidade' .format(cidade))"
   ]
  },
  {
   "cell_type": "markdown",
   "metadata": {},
   "source": [
    "### Desafio 025\n",
    "\n",
    "Crie um programa que leia o nome de uma pessoa e diga se ela tem \"Silva\" no nome."
   ]
  },
  {
   "cell_type": "code",
   "execution_count": 11,
   "metadata": {},
   "outputs": [
    {
     "name": "stdout",
     "output_type": "stream",
     "text": [
      "Nome: {} \n",
      "Não tem \"Silva\" no seu nome.\n"
     ]
    }
   ],
   "source": [
    "nome_completo = input('Digite o seu nome completo').title()\n",
    "\n",
    "while True:\n",
    "  if 'Silva' in nome_completo:\n",
    "    print('Nome: {} \\nTem \"Silva\" no seu nome.')\n",
    "  else:\n",
    "    print('Nome: {} \\nNão tem \"Silva\" no seu nome.')"
   ]
  },
  {
   "cell_type": "markdown",
   "metadata": {},
   "source": [
    "### Desafio 026\n",
    "\n",
    "Faça um programa que leia uma frase pelo teclado e mostre:\n",
    "- Quantas vezes aparece a letra \"A\"\n",
    "- Em que posição ela aparece a primeira vez.\n",
    "- Em que posição ela aparece a últiva vez."
   ]
  },
  {
   "cell_type": "code",
   "execution_count": 22,
   "metadata": {},
   "outputs": [
    {
     "name": "stdout",
     "output_type": "stream",
     "text": [
      "Era uma casa muito engraçada, não tinha teto 8\n"
     ]
    }
   ],
   "source": [
    "texto = input('Digite um texto')\n",
    "\n",
    "print(texto, texto.count(\"a\"))"
   ]
  },
  {
   "cell_type": "markdown",
   "metadata": {},
   "source": [
    "### Desafio 027\n",
    "Faça um programa que leia o nome completo de uma pessoa, mostrando em seguida o primeiro e o último nome separadamente.\n",
    "\n",
    "Ex. Ana Maria de Souza\n",
    "- primeiro = Ana\n",
    "- último = Souza"
   ]
  },
  {
   "cell_type": "markdown",
   "metadata": {},
   "source": []
  }
 ],
 "metadata": {
  "kernelspec": {
   "display_name": "Python 3",
   "language": "python",
   "name": "python3"
  },
  "language_info": {
   "codemirror_mode": {
    "name": "ipython",
    "version": 3
   },
   "file_extension": ".py",
   "mimetype": "text/x-python",
   "name": "python",
   "nbconvert_exporter": "python",
   "pygments_lexer": "ipython3",
   "version": "3.11.5"
  },
  "orig_nbformat": 4
 },
 "nbformat": 4,
 "nbformat_minor": 2
}
